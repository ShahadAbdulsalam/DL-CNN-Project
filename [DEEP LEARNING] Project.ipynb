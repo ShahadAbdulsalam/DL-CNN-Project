{
 "cells": [
  {
   "cell_type": "markdown",
   "id": "9acc0ce6",
   "metadata": {},
   "source": [
    "# Object:\n",
    "## Brain Tumor Detection\n",
    "\n",
    "\n",
    "# Description:\n",
    "### Using deep learning to state Tumor Presence, Tumor Grade and Tumor Type.\n",
    "\n",
    "# Tools:\n",
    "- Pandas\n",
    "- Numpy\n",
    "- tensorflow.keras\n",
    "- CNN "
   ]
  }
 ],
 "metadata": {
  "kernelspec": {
   "display_name": "Python 3 (ipykernel)",
   "language": "python",
   "name": "python3"
  },
  "language_info": {
   "codemirror_mode": {
    "name": "ipython",
    "version": 3
   },
   "file_extension": ".py",
   "mimetype": "text/x-python",
   "name": "python",
   "nbconvert_exporter": "python",
   "pygments_lexer": "ipython3",
   "version": "3.9.7"
  }
 },
 "nbformat": 4,
 "nbformat_minor": 5
}
